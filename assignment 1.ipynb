{
 "cells": [
  {
   "cell_type": "code",
   "execution_count": 2,
   "id": "0594d980-4ba6-4947-8dca-80e76568b0e1",
   "metadata": {},
   "outputs": [
    {
     "name": "stdout",
     "output_type": "stream",
     "text": [
      " dlrow olleh \n"
     ]
    }
   ],
   "source": [
    "# 1. write a code to reverse a string\n",
    "string = \" hello world \"\n",
    "print(string[::-1])"
   ]
  },
  {
   "cell_type": "code",
   "execution_count": 1,
   "id": "5a8f1df3-01c5-43f5-81c9-56b18e7d2df7",
   "metadata": {},
   "outputs": [
    {
     "name": "stdout",
     "output_type": "stream",
     "text": [
      "hey its neetesh kumar sharma\n",
      "9\n"
     ]
    }
   ],
   "source": [
    "# 2. write a code to count the number of  vowels in a string\n",
    "string = \"hey its NeEtesh Kumar Sharma\"\n",
    "string=string.lower()\n",
    "print(string)\n",
    "a = \"aeiou\"\n",
    "count = 0\n",
    "for i in string:\n",
    "    if i in a:\n",
    "        count = count+1\n",
    "print(count)"
   ]
  },
  {
   "cell_type": "code",
   "execution_count": 3,
   "id": "6b8e29fc-e565-4614-a2d1-2272f83e5876",
   "metadata": {},
   "outputs": [
    {
     "name": "stdout",
     "output_type": "stream",
     "text": [
      "The string is a palindrome\n"
     ]
    }
   ],
   "source": [
    "# 3. write a code to check if a given string is a palidrome or not\n",
    "string = \"malayalam\"\n",
    "string2 = string[::-1]\n",
    "\n",
    "if string == string2:\n",
    "  print(\"The string is a palindrome\")\n",
    "else:\n",
    "  print(\"The string is not a palindrome\")"
   ]
  },
  {
   "cell_type": "code",
   "execution_count": 4,
   "id": "4e5bc13e-31e0-4017-bf2a-37b3ba5af673",
   "metadata": {},
   "outputs": [
    {
     "name": "stdout",
     "output_type": "stream",
     "text": [
      "the string is anagram\n"
     ]
    }
   ],
   "source": [
    " # 4. write a code to check if two given strings are anagrams of each other.\n",
    "string = \"neetesh\"\n",
    "string2 = \"eetnesh\"\n",
    "string = (sorted(string))\n",
    "string2 = (sorted(string2))\n",
    "\n",
    "if string == string2:\n",
    "    print(\"the string is anagram\")\n",
    "else:\n",
    "    print(\"the string is not anagram\")\n"
   ]
  },
  {
   "cell_type": "code",
   "execution_count": 21,
   "id": "f42693db-b637-4d36-8e03-1008365033e6",
   "metadata": {},
   "outputs": [
    {
     "name": "stdout",
     "output_type": "stream",
     "text": [
      "True\n",
      "-1\n"
     ]
    }
   ],
   "source": [
    "# 5. write a code to find all tthe occurences of a given substring with another string\n",
    "string = \" hey its neetesh kumar shamra \"\n",
    "sub_string = \"neetesh\"\n",
    "print(sub_string in string)\n",
    "print(sub_string.find(string))"
   ]
  },
  {
   "cell_type": "code",
   "execution_count": 1,
   "id": "ace93173-a26d-41cd-99f6-32174d8af1d9",
   "metadata": {},
   "outputs": [
    {
     "name": "stdout",
     "output_type": "stream",
     "text": [
      "a2b1c5a3b3\n"
     ]
    }
   ],
   "source": [
    "# 6. write a code to perform basic string compression using the counts of repeated character\n",
    "\n",
    "string = \"aabcccccaaabbb\"\n",
    "count = 0\n",
    "for i in range(len(string) - 1):\n",
    "  if string[i] == string[i + 1]:\n",
    "    count += 1\n",
    "  else:\n",
    "    print(string[i] + str(count + 1), end = \"\")\n",
    "    count = 0\n",
    "print(string[i] + str(count + 1))\n",
    "    \n",
    "\n"
   ]
  },
  {
   "cell_type": "code",
   "execution_count": 8,
   "id": "cec85730-de17-4dfc-8be2-3475affb72e7",
   "metadata": {},
   "outputs": [
    {
     "name": "stdout",
     "output_type": "stream",
     "text": [
      "23\n"
     ]
    }
   ],
   "source": [
    "# 7. write a code to determine if a string has all unique character\n",
    "\n",
    "string = \"hey its neetesh kumar sharma\"\n",
    "count = 0\n",
    "for i in string:\n",
    "    if string.count(i)>1:\n",
    "        count+=1\n",
    "print(count)"
   ]
  },
  {
   "cell_type": "code",
   "execution_count": 13,
   "id": "2f461f78-7a79-4694-b4bc-017fe1879530",
   "metadata": {},
   "outputs": [
    {
     "name": "stdout",
     "output_type": "stream",
     "text": [
      "pw skills, data analytics\n",
      "PW SKILLS, DATA ANALYTICS\n",
      "Pw skills, data analytics\n"
     ]
    }
   ],
   "source": [
    "# 8. write a code to convert a given string to uppercase or lowerccase\n",
    "\n",
    "string = \"PW Skills, Data Analytics\"\n",
    "print(string.lower())\n",
    "print(string.upper())\n",
    "print(string.capitalize())"
   ]
  },
  {
   "cell_type": "code",
   "execution_count": 18,
   "id": "79de92ff-640f-40b1-a31b-d94042d4e83a",
   "metadata": {},
   "outputs": [
    {
     "name": "stdout",
     "output_type": "stream",
     "text": [
      "39\n"
     ]
    }
   ],
   "source": [
    "# 9. write a code to count the number of word in a string\n",
    "\n",
    "string = \"PW Skills, Data Analytics, data science\"\n",
    "count = 0\n",
    "for i in range(len(string)):\n",
    "    count += 1\n",
    "print(count)\n",
    "    "
   ]
  },
  {
   "cell_type": "code",
   "execution_count": 20,
   "id": "3e954fc9-959a-41d0-beee-34e44638b472",
   "metadata": {},
   "outputs": [
    {
     "name": "stdout",
     "output_type": "stream",
     "text": [
      "Data Analytics, data science sql, machine learning\n"
     ]
    }
   ],
   "source": [
    "# 10. write a code to concatenate two strings without using the + operator\n",
    "\n",
    "string1 = \"Data Analytics, data science\"\n",
    "string2 = \"sql, machine learning\"\n",
    "concatenate_string = \" \".join([string1,string2])\n",
    "print(concatenate_string)"
   ]
  },
  {
   "cell_type": "code",
   "execution_count": 30,
   "id": "c9906883-925c-447a-a782-3bbbdf534e2c",
   "metadata": {},
   "outputs": [
    {
     "name": "stdout",
     "output_type": "stream",
     "text": [
      "[1, 2, 3, 4, 5, 6, 7, 7, 8, 8]\n"
     ]
    }
   ],
   "source": [
    "# 11. write a code to remove all occurences of a specific element from a list\n",
    "list = [1,2,3,4,5,5,6,7,7,8,8]\n",
    "list.remove(5)\n",
    "print(list)"
   ]
  },
  {
   "cell_type": "code",
   "execution_count": 29,
   "id": "73c88884-55e0-41cb-9fae-d2e15df45861",
   "metadata": {},
   "outputs": [
    {
     "name": "stdout",
     "output_type": "stream",
     "text": [
      " second largest number in the list is : 10\n"
     ]
    }
   ],
   "source": [
    "# 12. implement aa code to find the second largest number in a given list of integers\n",
    "list = [1,2,3,4,5,6,7,8,10,10]\n",
    "list = sorted(list)\n",
    "print(\" second largest number in the list is :\",list[-2])\n",
    "    "
   ]
  },
  {
   "cell_type": "code",
   "execution_count": 5,
   "id": "a900509a-2318-4589-b84d-7a6a4c2b2fba",
   "metadata": {},
   "outputs": [
    {
     "name": "stdout",
     "output_type": "stream",
     "text": [
      "{1: 2, 2: 2, 3: 2, 4: 3, 5: 2, 6: 2, 7: 2, 8: 2, 9: 1, 10: 1}\n"
     ]
    }
   ],
   "source": [
    "\"\"\" 13. create a code to count the occcurences of each element in a list and return a dictionary with element \n",
    "as keys and their count as values\"\"\"\n",
    "list = [1,2,3,4,5,6,7,8,9,10,1,4,5,3,6,7,8,4,2,]\n",
    "dict = {}\n",
    "for i in list:\n",
    "    if i in dict:\n",
    "        dict[i] += 1\n",
    "    else:\n",
    "        dict[i] = 1\n",
    "print(dict)\n",
    "\n"
   ]
  },
  {
   "cell_type": "code",
   "execution_count": 35,
   "id": "86d55674-d6a8-46b8-8560-66a152c1a4bb",
   "metadata": {},
   "outputs": [
    {
     "name": "stdout",
     "output_type": "stream",
     "text": [
      "[10, 9, 8, 7, 7, 6, 5, 4, 3, 2, 1]\n"
     ]
    }
   ],
   "source": [
    " # 14. Write a code to reverse a list in-place without using any built-in reverse functions\n",
    "list = [ 1,2,3,4,5,6,7,7,8,9,10]\n",
    "print(list[::-1])"
   ]
  },
  {
   "cell_type": "code",
   "execution_count": null,
   "id": "f69458e0-a3b4-4ec6-a13d-07bb2fee9ebf",
   "metadata": {},
   "outputs": [],
   "source": [
    " # 15.Write a code to merge two sorted lists into a single sorted list\n",
    "l1 = [1,4,5,2,5,6,3,5,3]\n",
    "l2 = [3,4,5,2,6,7,4,7,9]\n",
    "l3 = sorted(l1) + sorted(l2)\n",
    "    \n",
    "print(l3)"
   ]
  },
  {
   "cell_type": "code",
   "execution_count": 1,
   "id": "68df36b2-ea40-4f72-93d0-bea3bfd96e28",
   "metadata": {},
   "outputs": [
    {
     "name": "stdout",
     "output_type": "stream",
     "text": [
      "[4, 7, 4, 7, 10]\n"
     ]
    }
   ],
   "source": [
    "# 16. Implement a code to find the intersection of two given lists\n",
    "list1 = [1,4,5,6,7,5,5,4,6,7,10]\n",
    "list2 = [2,4,7,9,7,9,3,2,8,9,10]\n",
    "list3 =[]\n",
    "for i in list1:\n",
    "    if i in list2:\n",
    "            list3.append(i)\n",
    "print(list3)"
   ]
  },
  {
   "cell_type": "code",
   "execution_count": 14,
   "id": "7554a658-83ad-404f-981c-d424789fd494",
   "metadata": {},
   "outputs": [
    {
     "name": "stdout",
     "output_type": "stream",
     "text": [
      "original list : [1, 2, 3, 5, 3, 2, 4, 5, 6, 7, 8, 7, 6, 10]\n",
      "new list : [1, 2, 3, 5, 4, 6, 7, 8, 10]\n"
     ]
    }
   ],
   "source": [
    "\"\"\" 17. Implement a code to find and remove duplicates from a list while preserving the original order of \n",
    "elements\"\"\"\n",
    "list1 = [1,2,3,5,3,2,4,5,6,7,8,7,6,10]\n",
    "print(\"original list :\", list1)\n",
    "new_list = []\n",
    "for i in list1:\n",
    "    if i not in new_list:\n",
    "        new_list.append(i)\n",
    "print(\"new list :\",new_list)\n",
    "        \n",
    "    "
   ]
  },
  {
   "cell_type": "code",
   "execution_count": 8,
   "id": "82254280-31c7-4788-bbda-a173ff01edcf",
   "metadata": {},
   "outputs": [
    {
     "name": "stdout",
     "output_type": "stream",
     "text": [
      "list is in ascending order [1, 2, 3, 4, 6, 8, 10]\n"
     ]
    }
   ],
   "source": [
    "# 18.  Create a code to check if a given list is sorted (either in ascending or descending order) or not\n",
    "list1 = [1,2,3,4,6,8,10]\n",
    "list2 = sorted(list1)\n",
    "list3 = list1[::-1]\n",
    "if list1 == list2:\n",
    "    print(\"list is in ascending order\",list1)\n",
    "elif list1 == list3:\n",
    "    print(\"list is in descending order\",list1)\n",
    "else:\n",
    "    print(\"list is neither ascending nor descending\")\n",
    "    "
   ]
  },
  {
   "cell_type": "code",
   "execution_count": 1,
   "id": "0aa34648-0671-4831-bcc6-4170e36c4724",
   "metadata": {},
   "outputs": [
    {
     "name": "stdout",
     "output_type": "stream",
     "text": [
      "[1, 2, 3, 4, 5, 6, 7]\n"
     ]
    }
   ],
   "source": [
    "# 19. Create a code to find the union of two lists without duplicates\n",
    "list1 = [1,2,3,2,4,5,6,7,5,4,5]\n",
    "list2 = [2,3,4,5,6,4,3,4,2,4,6]\n",
    "list3 = []\n",
    "list4 = []\n",
    "for i in list1:\n",
    "    if i not in list3:\n",
    "        list3.append(i)        \n",
    "#print(list3)\n",
    "for j in list2:\n",
    "    if j not in list4:\n",
    "        list4.append(j)\n",
    "#print(list4)\n",
    "list5 = list3+list4\n",
    "list6 =[]\n",
    "for k in list5:\n",
    "    if k not in list6:\n",
    "        list6.append(k)\n",
    "print(list6)"
   ]
  },
  {
   "cell_type": "code",
   "execution_count": 4,
   "id": "28fda7ac-4228-466d-b290-e51e8ca73e1b",
   "metadata": {},
   "outputs": [
    {
     "name": "stdout",
     "output_type": "stream",
     "text": [
      "[1, 2, 45, 5, 5, 6, 7, 8, 9, 10]\n"
     ]
    }
   ],
   "source": [
    "# 20. Write a code to shuffle a given list randomly without using any built-in shuffle functions\n",
    "list1 = [1,2,3,4,5,6,7,8,9,10]\n",
    "list2 = [9,8,7,6,7,8,4,5,6,13]\n",
    "\n",
    "for i in range(len(list1)):\n",
    "    list2[i] = list1[i]\n",
    "print(list2)\n"
   ]
  },
  {
   "cell_type": "code",
   "execution_count": 5,
   "id": "453f59cf-9ec7-4aee-9163-a897a2a98719",
   "metadata": {},
   "outputs": [
    {
     "name": "stdin",
     "output_type": "stream",
     "text": [
      "enter the value for tuple 1 :-  1,2,3,4,4\n",
      "eneter th value for tuple 2 :-  1,2,5,6,7,8\n"
     ]
    },
    {
     "name": "stdout",
     "output_type": "stream",
     "text": [
      "(1, 2)\n"
     ]
    }
   ],
   "source": [
    " \"\"\" 21. Write a code that takes two tuples as input and returns a new tuple containing elements that are \n",
    "common to both input tuples\"\"\"\n",
    " \n",
    "tuple1 = eval(input(\"enter the value for tuple 1 :- \"))\n",
    "tuple2 = eval(input(\"eneter th value for tuple 2 :- \"))\n",
    "tuple3 = tuple(set(tuple1) & set(tuple2))\n",
    "print(tuple3)\n",
    "            \n",
    "    \n",
    "    "
   ]
  },
  {
   "cell_type": "code",
   "execution_count": 6,
   "id": "17d39dc3-7ecc-4ac8-b487-c11dbce22d7e",
   "metadata": {},
   "outputs": [
    {
     "name": "stdin",
     "output_type": "stream",
     "text": [
      "enter the elements in set1 :-  1,2,3,4,4\n",
      "enter the elements in set2 :-  1,2,4,7,6,5,4\n"
     ]
    },
    {
     "name": "stdout",
     "output_type": "stream",
     "text": [
      "intersection of these two sets of integer {'6', '5', '7', '3'}\n"
     ]
    }
   ],
   "source": [
    "\"\"\" 22. Create a code that prompts the user to enter two sets of integers separated by commas. Then, print the \n",
    "intersection of these two sets \"\"\"\n",
    "set1 = set(input(\"enter the elements in set1 :- \"))\n",
    "set2 = set(input(\"enter the elements in set2 :- \"))\n",
    "print(\"intersection of these two sets of integer\",set1^set2)"
   ]
  },
  {
   "cell_type": "code",
   "execution_count": 5,
   "id": "f2242db8-1349-4a2a-92cc-90059b1b305b",
   "metadata": {},
   "outputs": [
    {
     "name": "stdout",
     "output_type": "stream",
     "text": [
      "(1, 2, 3, 4, 3, 2, 3, 4, 5, 6, 5, 7, 6, 5, 5, 4, 64, 6, 4, 45, 5)\n"
     ]
    }
   ],
   "source": [
    "\"\"\" 23.  Write a code to concatenate two tuples. The function should take two tuples as input and return a new \n",
    "tuple containing elements from both input tuples. \"\"\"\n",
    "def concatenate_tuple(tuple1,tuple2):\n",
    "    return tuple1+tuple2\n",
    "\n",
    "tuple1 = (1,2,3,4,3,2,3,4,5,6)\n",
    "tuple2 = (5,7,6,5,5,4,64,6,4,45,5)\n",
    "\n",
    "print(concatenate_tuple(tuple1,tuple2))"
   ]
  },
  {
   "cell_type": "code",
   "execution_count": 17,
   "id": "66cbddd1-1084-497d-91d7-2277b50fc638",
   "metadata": {},
   "outputs": [
    {
     "name": "stdin",
     "output_type": "stream",
     "text": [
      "enter the element in set1 :-  neetesh\n",
      "enter the elemnet in set2 :-  eetefgh\n"
     ]
    },
    {
     "name": "stdout",
     "output_type": "stream",
     "text": [
      "{'s', 'n'}\n"
     ]
    }
   ],
   "source": [
    "\"\"\" 24. Develop a code that prompts the user to input two sets of strings. Then, print the elements that are \n",
    "present in the first set but not in the second set\"\"\"\n",
    "set1 = set(input(\"enter the element in set1 :- \"))\n",
    "set2 = set(input(\"enter the elemnet in set2 :- \"))\n",
    "print(set1-set2)"
   ]
  },
  {
   "cell_type": "code",
   "execution_count": 3,
   "id": "4886edb5-52cd-4027-8e92-47ecc5926571",
   "metadata": {},
   "outputs": [
    {
     "name": "stdout",
     "output_type": "stream",
     "text": [
      "(2, 3, 4, 5, 6, 7, 8)\n"
     ]
    }
   ],
   "source": [
    "\"\"\" 25. Create a code that takes a tuple and two integers as input. The function should return a new tuple \n",
    "containing elements from the original tuple within the specified range of indices \"\"\"\n",
    "def tuple_range(tuple,start,end):\n",
    "    return tuple[start:end]\n",
    "\n",
    "tuple = (1,2,3,4,5,6,7,8,9)\n",
    "start = 1\n",
    "end = 8\n",
    "print(tuple_range(tuple,start,end))\n"
   ]
  },
  {
   "cell_type": "code",
   "execution_count": 19,
   "id": "fa963925-fce7-4aa1-a38a-bed644a09de2",
   "metadata": {},
   "outputs": [
    {
     "name": "stdin",
     "output_type": "stream",
     "text": [
      "Enter the first set of characters:  data analyst\n",
      "Enter the second set of characters:  data scientist\n"
     ]
    },
    {
     "name": "stdout",
     "output_type": "stream",
     "text": [
      "{'d', 't', 'c', 'l', 'y', 'a', 'i', 's', 'n', 'e', ' '}\n"
     ]
    }
   ],
   "source": [
    "\"\"\" 26.  Write a code that prompts the user to input two sets of characters. Then, print the union of these two sets \"\"\"\n",
    "set1 = set(input(\"Enter the first set of characters: \"))\n",
    "set2 = set(input(\"Enter the second set of characters: \"))\n",
    "print(set1.union(set2))"
   ]
  },
  {
   "cell_type": "code",
   "execution_count": 6,
   "id": "74b38406-5dcb-4a0c-9787-bd8e406dd208",
   "metadata": {},
   "outputs": [
    {
     "data": {
      "text/plain": [
       "(1, 5)"
      ]
     },
     "execution_count": 6,
     "metadata": {},
     "output_type": "execute_result"
    }
   ],
   "source": [
    "\"\"\" 27.  Develop a code that takes a tuple of integers as input. The function should return the maximum and \n",
    "minimum values from the tuple using tuple unpacking \"\"\"\n",
    "\n",
    "def max_min(tuple):\n",
    "    return min(tuple) , max(tuple)\n",
    "tuple = (1,2,3,4,5)\n",
    "max_min(tuple)"
   ]
  },
  {
   "cell_type": "code",
   "execution_count": 21,
   "id": "bdb83a49-e38e-4a7f-9dc5-111c02da5df5",
   "metadata": {},
   "outputs": [
    {
     "name": "stdin",
     "output_type": "stream",
     "text": [
      "Enter the first set of characters:   1,2,3,4,5,6,7\n",
      "Enter the second set of characters:   1,2,3,8,9,7,6\n"
     ]
    },
    {
     "name": "stdout",
     "output_type": "stream",
     "text": [
      "{'1', '7', '2', '3', '6', '5', '8', ',', '9', ' ', '4'}\n",
      "{'7', '1', '2', '3', '6', ',', ' '}\n",
      "{'5', '4'}\n"
     ]
    }
   ],
   "source": [
    "\"\"\" 28.  Create a code that defines two sets of integers. Then, print the union, intersection, and difference of these \n",
    "two sets \"\"\"\n",
    "set1 = set(input(\"Enter the first set of characters: \"))\n",
    "set2 = set(input(\"Enter the second set of characters: \"))\n",
    "print(\"union of two sets are :-\",set1.union(set2))\n",
    "print(\"intersection of two sets are :-\",set1.intersection(set2))\n",
    "print(\"difference of two sets are :-\",set1.difference(set2))"
   ]
  },
  {
   "cell_type": "code",
   "execution_count": 10,
   "id": "c407cd15-22a9-4c8f-ac48-0afc35394901",
   "metadata": {},
   "outputs": [
    {
     "name": "stdout",
     "output_type": "stream",
     "text": [
      "34\n"
     ]
    }
   ],
   "source": [
    "\"\"\" 29.  Write a code that takes a tuple and an element as input. The function should return the count of \n",
    "occurrences of the given element in the tuple \"\"\"\n",
    "def count(*tuple):\n",
    "    s = 0\n",
    "    for i in tuple:\n",
    "        s = s+i\n",
    "    return s\n",
    "print(count(1,3,7,7,8,8))"
   ]
  },
  {
   "cell_type": "code",
   "execution_count": 14,
   "id": "a7fb3f9f-1d74-4ffc-a67f-2246d19f435a",
   "metadata": {},
   "outputs": [
    {
     "name": "stdin",
     "output_type": "stream",
     "text": [
      "enter the strinf first:-  data science\n",
      "enter the string second :-  data analytics\n"
     ]
    },
    {
     "name": "stdout",
     "output_type": "stream",
     "text": [
      "{'e', 'l', 'y'}\n"
     ]
    }
   ],
   "source": [
    "\"\"\" 30.  Develop a code that prompts the user to input two sets of strings. Then, print the symmetric difference of \n",
    "these two sets \"\"\"\n",
    "s1 = set(input(\"enter the strinf first:- \"))\n",
    "s2 = set(input(\"enter the string second :- \"))\n",
    "print(s1.symmetric_difference(s2))"
   ]
  },
  {
   "cell_type": "code",
   "execution_count": 23,
   "id": "0a1b7241-30c2-4e42-8db9-d0728bec5aed",
   "metadata": {},
   "outputs": [
    {
     "name": "stdout",
     "output_type": "stream",
     "text": [
      "{'a': 4, 'b': 2, 'c': 2, 'v': 1, 'd': 2}\n"
     ]
    }
   ],
   "source": [
    "\"\"\" 31. Write a code that takes a list of words as input and returns a dictionary where the keys are unique words \n",
    "and the values are the frequencies of those words in the input list\"\"\"\n",
    "def word_frequency(words):\n",
    "    freq = {}\n",
    "    for i in words:\n",
    "        if i in freq:\n",
    "            freq[i] += 1\n",
    "        else:\n",
    "            freq[i] = 1\n",
    "    return freq\n",
    "words = [\"a\",\"b\",\"c\",\"b\",\"a\",\"v\",\"a\",\"d\",\"a\",\"d\",\"c\"]\n",
    "freq = word_frequency(words)\n",
    "print(freq)"
   ]
  },
  {
   "cell_type": "code",
   "execution_count": 31,
   "id": "02fc25ff-d07c-4121-8973-4ae1e4e0bc44",
   "metadata": {},
   "outputs": [
    {
     "name": "stdout",
     "output_type": "stream",
     "text": [
      "{'a': 5, 'b': 7, 'c': 6, 'd': 10, 'e': 14, 'f': 12}\n"
     ]
    }
   ],
   "source": [
    "\"\"\" 32. Write a code that takes two dictionaries as input and merges them into a single dictionary. If there are \n",
    "common keys, the values should be added together \"\"\"\n",
    "dict1 = { 'a':1 , 'b' :2 , 'c':3 ,'d':4 , 'e' :5 , 'f':6}\n",
    "dict2 = { 'a':4 , 'b' :5 , 'c':3 ,'d':6 , 'e' :9 , 'f':6}\n",
    "dict3 = {}\n",
    "for key,value in dict1.items():\n",
    "    dict3[key] = value\n",
    "    \n",
    "for key,value in dict2.items():\n",
    "    if key in dict3:\n",
    "            dict3[key] += value \n",
    "    else:\n",
    "        dict3[key] = value\n",
    "print(dict3)"
   ]
  },
  {
   "cell_type": "code",
   "execution_count": 5,
   "id": "3b25deaa-a57f-46c7-a4c1-ddbbfdce99e8",
   "metadata": {},
   "outputs": [
    {
     "name": "stdout",
     "output_type": "stream",
     "text": [
      "d\n"
     ]
    }
   ],
   "source": [
    "\"\"\" 33. Write a code to access a value in a nested dictionary. The function should take the dictionary and a list of \n",
    "keys as input, and return the corresponding value. If any of the keys do not exist in the dictionary, the \n",
    "function should return None \"\"\"\n",
    "\n",
    "def nested_dict(dict, keys):\n",
    "    if not keys:\n",
    "        return dict\n",
    "    key = keys[0]\n",
    "    if key not in dict:\n",
    "        return None\n",
    "    return nested_dict(dict[key], keys[1:])\n",
    "\n",
    "dict = {'a': {'b': {'c': 'd'}}}\n",
    "keys = ['a', 'b', 'c']\n",
    "print(nested_dict(dict, keys))\n",
    "    "
   ]
  },
  {
   "cell_type": "code",
   "execution_count": 4,
   "id": "eef9190c-60da-4ebe-9893-e33cc2f91f32",
   "metadata": {},
   "outputs": [
    {
     "name": "stdout",
     "output_type": "stream",
     "text": [
      "[('a', 1), ('d', 2), ('c', 5), ('b', 8)]\n"
     ]
    }
   ],
   "source": [
    "\"\"\" 34.  Write a code that takes a dictionary as input and returns a sorted version of it based on the values. You \n",
    "can choose whether to sort in ascending or descending order \"\"\"\n",
    "\n",
    "def sorted_dict(dict):\n",
    "    sort_dict = sorted(dict.items(), key = lambda x:x[1])\n",
    "    return sort_dict\n",
    "\n",
    "dict = {'a':1,'b':8,'c':5,'d':2}\n",
    "print(sorted_dict(dict))"
   ]
  },
  {
   "cell_type": "code",
   "execution_count": 21,
   "id": "22fbc28d-d7f1-4367-ae26-f220b9551876",
   "metadata": {},
   "outputs": [
    {
     "ename": "NameError",
     "evalue": "name 'inverse' is not defined",
     "output_type": "error",
     "traceback": [
      "\u001b[0;31m---------------------------------------------------------------------------\u001b[0m",
      "\u001b[0;31mNameError\u001b[0m                                 Traceback (most recent call last)",
      "Cell \u001b[0;32mIn[21], line 15\u001b[0m\n\u001b[1;32m     12\u001b[0m     \u001b[38;5;28;01mreturn\u001b[39;00m inverse\n\u001b[1;32m     14\u001b[0m d \u001b[38;5;241m=\u001b[39m {\u001b[38;5;124m'\u001b[39m\u001b[38;5;124ma\u001b[39m\u001b[38;5;124m'\u001b[39m: \u001b[38;5;241m1\u001b[39m, \u001b[38;5;124m'\u001b[39m\u001b[38;5;124mb\u001b[39m\u001b[38;5;124m'\u001b[39m: \u001b[38;5;241m2\u001b[39m, \u001b[38;5;124m'\u001b[39m\u001b[38;5;124mc\u001b[39m\u001b[38;5;124m'\u001b[39m: \u001b[38;5;241m1\u001b[39m, \u001b[38;5;124m'\u001b[39m\u001b[38;5;124md\u001b[39m\u001b[38;5;124m'\u001b[39m: \u001b[38;5;241m3\u001b[39m, \u001b[38;5;124m'\u001b[39m\u001b[38;5;124me\u001b[39m\u001b[38;5;124m'\u001b[39m: \u001b[38;5;241m2\u001b[39m}\n\u001b[0;32m---> 15\u001b[0m \u001b[38;5;28mprint\u001b[39m(\u001b[43minvert_dict\u001b[49m\u001b[43m(\u001b[49m\u001b[43md\u001b[49m\u001b[43m)\u001b[49m)\n",
      "Cell \u001b[0;32mIn[21], line 5\u001b[0m, in \u001b[0;36minvert_dict\u001b[0;34m(d)\u001b[0m\n\u001b[1;32m      4\u001b[0m \u001b[38;5;28;01mdef\u001b[39;00m \u001b[38;5;21minvert_dict\u001b[39m(d):\n\u001b[0;32m----> 5\u001b[0m     \u001b[43minverse\u001b[49m \u001b[38;5;241m==\u001b[39m \u001b[38;5;28mdict\u001b[39m()\n\u001b[1;32m      6\u001b[0m     \u001b[38;5;28;01mfor\u001b[39;00m key \u001b[38;5;129;01min\u001b[39;00m d:\n\u001b[1;32m      7\u001b[0m         val \u001b[38;5;241m=\u001b[39m d[key]\n",
      "\u001b[0;31mNameError\u001b[0m: name 'inverse' is not defined"
     ]
    }
   ],
   "source": [
    "\"\"\" 35. Write a code that inverts a dictionary, swapping keys and values. Ensure that the inverted dictionary \n",
    "correctly handles cases where multiple keys have the same value by storing the keys as a list in the \n",
    "inverted dictionary \"\"\"\n",
    "def invert_dict(d):\n",
    "    inverse = dict()\n",
    "    for key in d:\n",
    "        val = d[key]\n",
    "        if val not in inverse:\n",
    "            inverse[val] = [key]\n",
    "        else:\n",
    "            inverse[val].append(key)\n",
    "    return inverse\n",
    "\n",
    "d = {'a': 1, 'b': 2, 'c': 1, 'd': 3, 'e': 2}\n",
    "print(invert_dict(d))"
   ]
  },
  {
   "cell_type": "code",
   "execution_count": null,
   "id": "6b68cc6e-0e06-42e6-8f08-fd4897f380ec",
   "metadata": {},
   "outputs": [],
   "source": []
  }
 ],
 "metadata": {
  "kernelspec": {
   "display_name": "Python 3 (ipykernel)",
   "language": "python",
   "name": "python3"
  },
  "language_info": {
   "codemirror_mode": {
    "name": "ipython",
    "version": 3
   },
   "file_extension": ".py",
   "mimetype": "text/x-python",
   "name": "python",
   "nbconvert_exporter": "python",
   "pygments_lexer": "ipython3",
   "version": "3.10.8"
  }
 },
 "nbformat": 4,
 "nbformat_minor": 5
}
